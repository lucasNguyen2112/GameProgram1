{
 "cells": [
  {
   "cell_type": "code",
   "execution_count": 3,
   "metadata": {},
   "outputs": [
    {
     "name": "stdout",
     "output_type": "stream",
     "text": [
      "pygame 2.5.2 (SDL 2.28.3, Python 3.12.0)\n",
      "Hello from the pygame community. https://www.pygame.org/contribute.html\n"
     ]
    }
   ],
   "source": [
    "import pygame\n",
    "import random\n",
    "from pygame import *"
   ]
  },
  {
   "cell_type": "code",
   "execution_count": 10,
   "metadata": {},
   "outputs": [],
   "source": [
    "def run():\n",
    "    sprite_sheet = pygame.image.load(\"zombie3.png\")\n",
    "    mole = []\n",
    "    mole.append(sprite_sheet.subsurface(19, 16, 80, 90))\n",
    "    mole.append(sprite_sheet.subsurface(190, 25, 100, 100))\n",
    "    mole.append(sprite_sheet.subsurface(374, 25, 100, 100))\n",
    "    mole.append(sprite_sheet.subsurface(558, 25, 96, 100))\n",
    "    mole.append(sprite_sheet.subsurface(741, 25, 90, 100))\n",
    "    mole.append(sprite_sheet.subsurface(901, 23, 88, 102))\n",
    "    pygame.init()\n",
    "    screen = pygame.display.set_mode((640, 480))\n",
    "    pygame.display.set_caption(\"Zombie\")\n",
    "    clock = pygame.time.Clock()\n",
    "    background = pygame.Surface(screen.get_size())\n",
    "    background.fill((255, 255, 255))\n",
    "    background = background.convert()\n",
    "    screen.blit(background, (0, 0))\n",
    "    pygame.display.flip()\n",
    "\n",
    "    while True:\n",
    "        for event in pygame.event.get():\n",
    "            if event.type == QUIT:\n",
    "                return\n",
    "        screen.blit(background, (0, 0))\n",
    "        for i in range(6):\n",
    "            screen.blit(mole[i], (i * 100, 0))\n",
    "        pygame.display.flip()\n",
    "        clock.tick(60)"
   ]
  },
  {
   "cell_type": "code",
   "execution_count": 11,
   "metadata": {},
   "outputs": [],
   "source": [
    "run()"
   ]
  }
 ],
 "metadata": {
  "kernelspec": {
   "display_name": "Python 3",
   "language": "python",
   "name": "python3"
  },
  "language_info": {
   "codemirror_mode": {
    "name": "ipython",
    "version": 3
   },
   "file_extension": ".py",
   "mimetype": "text/x-python",
   "name": "python",
   "nbconvert_exporter": "python",
   "pygments_lexer": "ipython3",
   "version": "3.12.0"
  }
 },
 "nbformat": 4,
 "nbformat_minor": 2
}
